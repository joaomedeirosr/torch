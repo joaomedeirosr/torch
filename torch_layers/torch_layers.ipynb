{
 "cells": [
  {
   "cell_type": "markdown",
   "metadata": {},
   "source": [
    "#### Camadas no Pytorch\n",
    "\n",
    "Uma camada no contexto de redes neurais, Deep Learning ou até mesmo Machine Learning é um dos componente mais básicos e fundamentais para qualquer modelo ou rede neural. Isso pois a grosso modo uma rede neural pode ser mais ou menos considerada como sendo uma pilha de camadas que vai compondo esta rede. O Pytorch tem classes ja implementadas para as camadas mais comumente utilizadas e a diante veremos como podemos trabalhar com essas classes pré prontas que implementam estas camadas."
   ]
  },
  {
   "cell_type": "markdown",
   "metadata": {},
   "source": [
    "#### Importando o torch.nn\n",
    "\n",
    "Todas as camadas do Pytorch estao localizadas no módulo torch.nn do Pytorch. Portanto, é muito importante lembrar de importar este módulo antes de usar essas camadas para construir a rede neural ou modelo."
   ]
  },
  {
   "cell_type": "code",
   "execution_count": 1,
   "metadata": {},
   "outputs": [],
   "source": [
    "import torch\n",
    "from torch import nn"
   ]
  },
  {
   "cell_type": "markdown",
   "metadata": {},
   "source": [
    "Agora, com a importacao do módulo `torch.nn` podemos começar a usar qualquer uma das camadas que o Pytorch, disponibiliza, criando uma instância dela e passando os argumentos necessários. Agora, vamos dar uma olhada nas camadas mais básicas do Pytorch e como usá-las."
   ]
  },
  {
   "cell_type": "markdown",
   "metadata": {},
   "source": [
    "#### Dense Layer (Camada densa)\n",
    "\n",
    "A dense layer, ou camada densa, é uma camada fully connected mais comumente utilizadas em redes neurais. Podemos criar uma dense layer instanciando a `Linearclass`, e podemos fazer isso fornecendo o número de entradas para a camada e o número de saídas dela, vamos ver um exemplo.\n",
    "\n",
    "##### Exemplo:\n",
    "\n",
    "Neste exemplo, vamos criar uma dense layer que recebe como entrada 300 valores e que na saída tenha 100 valores ou \"100 classes\". Ou melhor dizendo esta camada terá 100 neurônios e recebe como entrada uma camada anterior que possui 300 neurônios."
   ]
  },
  {
   "cell_type": "code",
   "execution_count": 2,
   "metadata": {},
   "outputs": [],
   "source": [
    "dense_layer = nn.Linear(300, 100)"
   ]
  },
  {
   "cell_type": "markdown",
   "metadata": {},
   "source": [
    "#### Camada Convolucional\n",
    "\n",
    "As camadas convolucionais sao as camadas mais utilizadas nas CNNs (Convolutional Neural Network) juntamente com as camadas de Pooling. Elas servem para o propósito de extrair recursos de uma regiao/local de uma determinada entrada. Como se trata de uma das camadas mais importantes dentro do contexto das CNNs, o Pytorch fornece várias classes para que seja possível executar concolucoes em dimensoes variadas. Vamos ver como criar uma camada convolucional na prática\n",
    "\n",
    "Exemplo:\n",
    "\n",
    "Neste exemplo, vamo criar uma camada convolucional 2D com um kernel de (5x5) que se aplica a 32 mapas de recrusos da Camada Convolucional anterior e produz 64 mapas de recursos. Ou falando de uma outra maneira, a camada contém 64 kernels de tamanho (5x5) com parametros que se aplicam a todos os 32 mapas de recursos da entrada. Esta camada convlucional possui um stride(passo) de 1 e padding igual a 0."
   ]
  },
  {
   "cell_type": "code",
   "execution_count": 4,
   "metadata": {},
   "outputs": [
    {
     "data": {
      "text/plain": [
       "Conv2d(32, 64, kernel_size=(5, 5), stride=(1, 1))"
      ]
     },
     "execution_count": 4,
     "metadata": {},
     "output_type": "execute_result"
    }
   ],
   "source": [
    "# A layer possui 32 \"mapas\" na entrada e 64 na saída com stride 1 e padding 0.\n",
    "conv_layer1 = nn.Conv2d(32, 64,(5,5), stride = 1, padding = 0)\n",
    "\n",
    "conv_layer1"
   ]
  },
  {
   "cell_type": "markdown",
   "metadata": {},
   "source": [
    "#### Camadas de Pooling\n",
    "\n",
    "As camadas de pooling sao também outro tipo de camada muito utilizado em CNNs. Ela tem o papel de reduzir a dimensionalidade dos mapas de recursos equanto preservam simultaneamente a maior quantidade de informacoes da imagem de entrada. O Pytorch oferece assim como nas camadas convolucionais uma série de classes para tratar e executar diversos tipos de operacoes de pooling nas mais váriadas dimensoes. Vamos ver um exemplo de como podemos usar uma camada de pooling 2D."
   ]
  },
  {
   "cell_type": "code",
   "execution_count": 5,
   "metadata": {},
   "outputs": [],
   "source": [
    "# Vamos criar uma camada de Max Pooling, com kernel de tamanho (3x3) com stride de 3 e padding 0.\n",
    "\n",
    "max_pool_1 = nn.MaxPool2d((3,3), stride = 3, padding = 0)"
   ]
  },
  {
   "cell_type": "markdown",
   "metadata": {},
   "source": [
    "#### Camadas mais utilizadas em Deep Learning e Pytorch\n",
    "\n",
    "Vamos, apresentar abaixo algumas das camadas mais utilizadas no Pytorch e algumas que ja discutimos anteriormente:\n",
    "\n",
    "| Classe de camada   | Breve Descrição                                                                 |\n",
    "|--------------------|----------------------------------------------------------------------------------|\n",
    "| `nn.Dropout`       | Elimina aleatoriamente alguns neurônios da camada com uma determinada probabilidade durante o treinamento. |\n",
    "| `nn.AvgPool2d`     | Aplica o Average Pooling sobre a entrada.                                       |\n",
    "| `nn.BatchNorm2d`   | Aplica Normalização em Lote sobre um lote de imagens com múltiplos canais. Por exemplo: Um lote de imagens RGB. |\n",
    "| `nn.RNN`           | Cria uma camada de rede neural recorrente.                                      |\n"
   ]
  }
 ],
 "metadata": {
  "kernelspec": {
   "display_name": "unicamp-ds",
   "language": "python",
   "name": "python3"
  },
  "language_info": {
   "codemirror_mode": {
    "name": "ipython",
    "version": 3
   },
   "file_extension": ".py",
   "mimetype": "text/x-python",
   "name": "python",
   "nbconvert_exporter": "python",
   "pygments_lexer": "ipython3",
   "version": "3.9.18"
  }
 },
 "nbformat": 4,
 "nbformat_minor": 2
}
