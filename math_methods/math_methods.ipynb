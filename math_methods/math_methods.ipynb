{
 "cells": [
  {
   "cell_type": "markdown",
   "metadata": {},
   "source": [
    "O Pytorch, possui um conjunto muito grande de funcoes, matemáticas que sao extremamente úteis, ao lidar ou trabalhar com tensores. Vamos ver algumas delas neste treinamento e ao final poderemos consultar o link da documentacao oficial que mostra praticamente todos os métodos mátematicos úteis ao lidar com Tensores."
   ]
  },
  {
   "cell_type": "markdown",
   "metadata": {},
   "source": [
    "Vamos, comecar falando sobre o método `torch.abs()`, este método tem o papel ou melhor dizendo retorna um tensor cujos elementos sao os valores absolutos dos elementos do tensor de entrada. Ou seja, o `torch.abs()`, nao altera o tensor original, mas sim tem o papel de criar um novo tensor para armazenar este tensor com valores absolutos.\n",
    "\n",
    "Uma coisa que pode nao ter ficado claro , logo de ínicio absoluto, como assim absoluto?\n",
    "\n",
    "Bom esta dúvida é bem natural e isto se deve ao fato de o nome do método nao ser tao intuitivo. Sendo assim, o `torch.abs()`, basicamente nos retorna o módulo dos valores internos do tensor, vamos ver isso na prática. \n",
    "\n",
    "Veja que vou criar um Tensor(2,2) ou uma matriz quadrada contendo valores negativos, justamente para comprovarmos e vermos na prática o que este método esta fazendo por debaixo dos panos:"
   ]
  },
  {
   "cell_type": "code",
   "execution_count": 4,
   "metadata": {},
   "outputs": [
    {
     "data": {
      "text/plain": [
       "torch.Size([2, 2])"
      ]
     },
     "execution_count": 4,
     "metadata": {},
     "output_type": "execute_result"
    }
   ],
   "source": [
    "import torch\n",
    "\n",
    "square_matrice = [[-1 , 4],[-2 , 1]]\n",
    "x = torch.tensor(square_matrice)\n",
    "\n",
    "x.shape"
   ]
  },
  {
   "cell_type": "markdown",
   "metadata": {},
   "source": [
    "Veja entao de fato que o método basicamente aplicou o módulo e tornou os valores que eram negativos em positivos."
   ]
  },
  {
   "cell_type": "code",
   "execution_count": 6,
   "metadata": {},
   "outputs": [
    {
     "data": {
      "text/plain": [
       "tensor([[1, 4],\n",
       "        [2, 1]])"
      ]
     },
     "execution_count": 6,
     "metadata": {},
     "output_type": "execute_result"
    }
   ],
   "source": [
    "y = torch.abs(x)\n",
    "\n",
    "y"
   ]
  },
  {
   "cell_type": "markdown",
   "metadata": {},
   "source": [
    "Vamos agora, abordar o método `torch.round()` este método ja possui um nome mais intuitivo o que facilita, o entendimento do que ele faz. Logo, o papel deste método é realizar o arredondamento dos valores internos do tensor para o inteiro mais próximo, assim como o `torch.abs()` o `torch.round()`, nao modifica o tensor original, mas sim cria um outro tensor para armazenar os valores arredondados dado um tensor de entrada.\n",
    "\n",
    "Vamos ver na prática como isso funciona, aqui vamos criar um tensor do tipo `torch.float32` para de fato vermos este comportamento acontecer:\n",
    "\n"
   ]
  },
  {
   "cell_type": "code",
   "execution_count": 8,
   "metadata": {},
   "outputs": [
    {
     "data": {
      "text/plain": [
       "tensor([[-1.2000,  4.7000],\n",
       "        [-2.9000,  1.2400]])"
      ]
     },
     "execution_count": 8,
     "metadata": {},
     "output_type": "execute_result"
    }
   ],
   "source": [
    "x1 = torch.tensor([[-1.2, 4.7],[-2.9, 1.24]], dtype=torch.float32)\n",
    "\n",
    "x1"
   ]
  },
  {
   "cell_type": "markdown",
   "metadata": {},
   "source": [
    "Veja que o tensor foi arredondado, de fato para o valor mais próximo, seguindo as regras matemáticas, pois veja que o elemento a11 = -1.20, ele está bem mais próximo de 1, do que de 2 e portanto foi arredondado para a11 = -1."
   ]
  },
  {
   "cell_type": "code",
   "execution_count": 9,
   "metadata": {},
   "outputs": [
    {
     "data": {
      "text/plain": [
       "tensor([[-1.,  5.],\n",
       "        [-3.,  1.]])"
      ]
     },
     "execution_count": 9,
     "metadata": {},
     "output_type": "execute_result"
    }
   ],
   "source": [
    "y1 = torch.round(x1)\n",
    "\n",
    "y1"
   ]
  },
  {
   "cell_type": "markdown",
   "metadata": {},
   "source": [
    "Uma pergunta que você deve estar se fazendo após ver o método `torch.round()` é a seguinte. Será que existe um método para forcar que o tensor arredonde para baixo? e a resposta é Sim, vamos apenas citar outros 2 métodos, sendo o primeiro deles para servir como uma alternativa ao `torch.round()` e outro para arredondar os valores do elementos do tensor para baixo.\n",
    "\n",
    "Alternativa ao método `torch.round()`: A alternativa que podemos utilizar é o método `torch.ceil()`, ele basicamente calcula o valor \"teto\" dos elementos do tensor que é todos os elementos arredondados para cima.\n",
    "\n",
    "Arredondamento para baixo: `torch.floor()`, este método arredonda os valores para um valor piso, ou seja para o valor baixo mais próximo.\n"
   ]
  },
  {
   "cell_type": "markdown",
   "metadata": {},
   "source": [
    "Agora, vamos abordar métodos, que basicamente sao funcoes matemática frequentemente utilizadas em diversos contextos ao se trabalhar com Tensores.\n",
    "\n",
    "- `torch.cos()`\n",
    "- `torch.sin()`\n",
    "- `torch.log()`\n",
    "- `torch.sqrt()`\n",
    "\n",
    "O que estes métodos entao fazem, bom eles tem nomes muito intuitivos e fazem realmente o que o nome do método indica, porém vamos comecar comentando sobre o `torch.cos()` e `torch.sin()`. Tanto o `torch.sin()` quanto o `torch.cos()`, retornam um novo **Tensor** cujo elemento é o seno, ou cosseno dos elementos internos de um dado tensor de entrada em radianos, e lembrando que boa parte dos métodos do Pytorch, eles nao alteram o tensor original e sim retornam um novo tensor com a operacao feita. Veja um exemplo abaixo."
   ]
  },
  {
   "cell_type": "code",
   "execution_count": 16,
   "metadata": {},
   "outputs": [
    {
     "data": {
      "text/plain": [
       "tensor([ 0.5403, -0.4161, -0.9900])"
      ]
     },
     "execution_count": 16,
     "metadata": {},
     "output_type": "execute_result"
    }
   ],
   "source": [
    "x = torch.tensor([1, 2, 3])\n",
    "\n",
    "y = torch.cos(x)\n",
    "\n",
    "y\n"
   ]
  },
  {
   "cell_type": "code",
   "execution_count": 12,
   "metadata": {},
   "outputs": [
    {
     "data": {
      "text/plain": [
       "tensor([0.8415, 0.9093, 0.1411])"
      ]
     },
     "execution_count": 12,
     "metadata": {},
     "output_type": "execute_result"
    }
   ],
   "source": [
    "z = torch.sin(x)\n",
    "\n",
    "z"
   ]
  },
  {
   "cell_type": "markdown",
   "metadata": {},
   "source": [
    "Agora, vamos comentar de maneira mais detalhada sobre o `torch.log()` e `torch.sqrt()`. De maneira análoga ao que vimos para o seno e cosseno, o método `torch.log()` tem o papel de retornar um tensor cujo os elementos internos sao a o log ou logarítimo natural dos elementos internos de um dado tensor de entrada. E já o `torch.sqrt()`, retorna um tensor cujo os elementos internos é a raíz quadrada de dos elementos de um dado tensor de entrada. Veja como isso funciona na prática:"
   ]
  },
  {
   "cell_type": "code",
   "execution_count": 19,
   "metadata": {},
   "outputs": [
    {
     "data": {
      "text/plain": [
       "tensor([1.4142, 1.7321, 2.0000, 2.2361])"
      ]
     },
     "execution_count": 19,
     "metadata": {},
     "output_type": "execute_result"
    }
   ],
   "source": [
    "zt = torch.tensor([2,3,4,5])\n",
    "\n",
    "zraiz = torch.sqrt(zt)\n",
    "\n",
    "zraiz"
   ]
  },
  {
   "cell_type": "code",
   "execution_count": 20,
   "metadata": {},
   "outputs": [
    {
     "data": {
      "text/plain": [
       "tensor([0.6931, 1.0986, 1.3863, 1.6094])"
      ]
     },
     "execution_count": 20,
     "metadata": {},
     "output_type": "execute_result"
    }
   ],
   "source": [
    "zlog = torch.log(zt)\n",
    "\n",
    "zlog"
   ]
  }
 ],
 "metadata": {
  "kernelspec": {
   "display_name": "unicamp-ds",
   "language": "python",
   "name": "python3"
  },
  "language_info": {
   "codemirror_mode": {
    "name": "ipython",
    "version": 3
   },
   "file_extension": ".py",
   "mimetype": "text/x-python",
   "name": "python",
   "nbconvert_exporter": "python",
   "pygments_lexer": "ipython3",
   "version": "3.9.18"
  }
 },
 "nbformat": 4,
 "nbformat_minor": 2
}
