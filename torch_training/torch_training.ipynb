{
 "cells": [
  {
   "cell_type": "markdown",
   "metadata": {},
   "source": [
    "#### Treinando um modelo no Pytorch\n",
    "\n",
    "Até o dado momento vimos, como construir a arquitetura da rede neural ou modelo, vimos também cada módulo, classe e método desacoplado e entendemos um pouquinho das suas particularidades. Vimos também sobre os otimizadores as funcoes de perda e todo o necessário para ajustarmos os pesos durante o processo de treinamento de uma rede neural.\n",
    "\n",
    "Agora para fechar o \"Loop\" devemos, ver entao como de fato podemos treinar uma rede neural para que ela aprenda. Vamos entao ver como construir um loop de treino para treinar um modelo no Pytorch:\n",
    "\n",
    "#### Escrevendo um loop de treinamento usando Pytorch\n",
    "\n",
    "Vamos, ver como é possível construir um loop de treinamento básico utilizando Pytorch:"
   ]
  },
  {
   "cell_type": "code",
   "execution_count": 1,
   "metadata": {},
   "outputs": [],
   "source": [
    "import torch\n",
    "from torch import optim\n",
    "import torch.nn as nn\n",
    "\n",
    "epochs = 10\n",
    "for epoch in range(epochs):\n",
    "    for batch in train_loader:\n",
    "        optim.zero_grad()\n",
    "        input, label = batch\n",
    "        output = mynet(input)\n",
    "        loss = loss_function(output, label)\n",
    "        loss.backward()\n",
    "        optim.step()"
   ]
  },
  {
   "cell_type": "markdown",
   "metadata": {},
   "source": [
    "#### Detalhando o script de treino\n",
    "\n",
    "Vamos detalhar o que o nosso script de treino faz de fato:\n",
    "\n",
    "```python\n",
    "for epoch in range(epochs)  # Executa o loop de treino por um determinado número de vezes ao longo do dataset.\n",
    "\n",
    "for batch in train_loader # Faz com que o loop de treino seja executado para cada lote/batelada(batch) do conjunto de dados.\n",
    "\n",
    "optim.zero_grad() # Define o valor de todos os gradientes para o otimizador como sendo zero.\n",
    "\n",
    "input, label = batch # Desempacota a \"tupla\" e extrai os valores das entradas (input) e rótulos(label)\n",
    "\n",
    "output = mynet(input) # Alimenta as entradas do objeto da rede neural(modelo) para prever o output.\n",
    "\n",
    "loss = loss_function(output, label) # Calcula a funcao de perda para tentar estimar 'quão longe' está o output da label(verdadeiro).\n",
    "\n",
    "loss.backward() # Calcula o gradiente para o backpropagation para cada parametro do modelo (mynet).\n",
    "\n",
    "optim.step() # Ajusta os pesos do modelo com base no gradiente calculado.\n",
    "```\n",
    "\n",
    "\n"
   ]
  },
  {
   "cell_type": "markdown",
   "metadata": {},
   "source": [
    "#### Validando o modelo no Pytorch\n",
    "\n",
    "Perfeito, já entendemos como construir um script ou  loop de treino para ser possível treinar um modelo utilizando Pytorch. Após, treinar o modelo, é muito importante ter um dataset de validação (\"val\") para que possamos ter uma ideia de como o modelo está performando. Sendo assim, vamos ver como podemos escrever um script para validar o modelo que foi treinado anteriormente pelo nosso loop de treino."
   ]
  },
  {
   "cell_type": "code",
   "execution_count": null,
   "metadata": {},
   "outputs": [],
   "source": [
    "model = mynet()\n",
    "for epoch in range(epochs):\n",
    "    # Performance do treino para cada epoch(epoca)\n",
    "    train_loss = 0\n",
    "    model.train()\n",
    "\n",
    "    # Loop de treino\n",
    "    for batch in train_dataloader:\n",
    "        optim.zero_grad()\n",
    "        input, label = batch\n",
    "        output = mynet(input)\n",
    "        loss = loss_function(output, label)\n",
    "        loss.backward()\n",
    "        optim.step()\n",
    "        train_loss += loss.item()\n",
    "    # Performance do validacao para cada epoch(epoca)\n",
    "    validation_loss = 0\n",
    "    model.eval()\n",
    "    \n",
    "    # Loop de validacao\n",
    "    for batch in validation_dataloader:\n",
    "        input, label = batch\n",
    "        output = mynet(input)\n",
    "        loss = loss_function(output, label)\n",
    "        validation_loss += loss.item()\n",
    "\n",
    "    # Calculo da media de perda para cada epoch(epoca)\n",
    "    train_loss_avg = train_loss / len(train_dataloader)\n",
    "    validation_loss = validation_loss / len(validation_dataloader)\n",
    "    "
   ]
  }
 ],
 "metadata": {
  "kernelspec": {
   "display_name": "unicamp-ds",
   "language": "python",
   "name": "python3"
  },
  "language_info": {
   "codemirror_mode": {
    "name": "ipython",
    "version": 3
   },
   "file_extension": ".py",
   "mimetype": "text/x-python",
   "name": "python",
   "nbconvert_exporter": "python",
   "pygments_lexer": "ipython3",
   "version": "3.9.18"
  }
 },
 "nbformat": 4,
 "nbformat_minor": 2
}
