{
 "cells": [
  {
   "cell_type": "markdown",
   "metadata": {},
   "source": [
    "### Métodos de matriz no Pytorch\n",
    "Podemos usar também o método `torch.t()`, ele é muito parecido, com o `tensor.T`, porém a diferenca é que o `.T` é um atributo do objeto tensor. Já o `torch.t()` ele cria um novo Tensor com a transposta do tensor de entrada. Vamos ver na prática:"
   ]
  },
  {
   "cell_type": "code",
   "execution_count": 1,
   "metadata": {},
   "outputs": [
    {
     "data": {
      "text/plain": [
       "(torch.Size([2, 3]), torch.Size([3, 2]))"
      ]
     },
     "execution_count": 1,
     "metadata": {},
     "output_type": "execute_result"
    }
   ],
   "source": [
    "import torch\n",
    "\n",
    "x = torch.ones(2,3)\n",
    "\n",
    "x_tranpose = torch.t(x)\n",
    "\n",
    "x.shape, x_tranpose.shape"
   ]
  },
  {
   "cell_type": "markdown",
   "metadata": {},
   "source": [
    "Agora, vamos ver outro método que pode ser de grande ajuda ao utilizar o Pytorch que é o `torch.det()`, este método é reponsável por calcular do determinante de matrizes ou de tensores"
   ]
  },
  {
   "cell_type": "code",
   "execution_count": 9,
   "metadata": {},
   "outputs": [
    {
     "data": {
      "text/plain": [
       "torch.Size([2, 2])"
      ]
     },
     "execution_count": 9,
     "metadata": {},
     "output_type": "execute_result"
    }
   ],
   "source": [
    "matrice_x = torch.tensor([[2,4],[4,2]],dtype=float)\n",
    "\n",
    "matrice_x.shape"
   ]
  },
  {
   "cell_type": "code",
   "execution_count": 11,
   "metadata": {},
   "outputs": [
    {
     "data": {
      "text/plain": [
       "tensor(-12., dtype=torch.float64)"
      ]
     },
     "execution_count": 11,
     "metadata": {},
     "output_type": "execute_result"
    }
   ],
   "source": [
    "y_det = torch.det(matrice_x)\n",
    "\n",
    "y_det"
   ]
  },
  {
   "cell_type": "markdown",
   "metadata": {},
   "source": [
    "Agora, vamos falar de outro método muito interessante que é o `torch.inverse()`, este método como o próprio nome sugere, ele calcula a inversa do tensor, caso seja possível, pois lembrando das disciplinas de algebra linear existem restricoes, e nem toda matriz ou tensor aceita inversa. No caso do método `torch.inverse()`, ele só realizar a inversa de tensores onde o tensor de entrada é uma \"matriz quadrada\", onde `linhas = colunas`. Veja:"
   ]
  },
  {
   "cell_type": "code",
   "execution_count": 23,
   "metadata": {},
   "outputs": [
    {
     "data": {
      "text/plain": [
       "tensor([[ 4.,  5.,  6.],\n",
       "        [ 6.,  3., -1.],\n",
       "        [ 2.,  4.,  8.]])"
      ]
     },
     "execution_count": 23,
     "metadata": {},
     "output_type": "execute_result"
    }
   ],
   "source": [
    "square_matrice = torch.tensor([[4.,5.,6.],[6.,3.,-1.],[2.,4.,8.]])\n",
    "\n",
    "square_matrice\n",
    "\n",
    "\n"
   ]
  },
  {
   "cell_type": "code",
   "execution_count": 24,
   "metadata": {},
   "outputs": [
    {
     "data": {
      "text/plain": [
       "tensor([[-0.9333,  0.5333,  0.7667],\n",
       "        [ 1.6667, -0.6667, -1.3333],\n",
       "        [-0.6000,  0.2000,  0.6000]])"
      ]
     },
     "execution_count": 24,
     "metadata": {},
     "output_type": "execute_result"
    }
   ],
   "source": [
    "inversed = torch.inverse(square_matrice)\n",
    "\n",
    "inversed"
   ]
  }
 ],
 "metadata": {
  "kernelspec": {
   "display_name": "unicamp-ds",
   "language": "python",
   "name": "python3"
  },
  "language_info": {
   "codemirror_mode": {
    "name": "ipython",
    "version": 3
   },
   "file_extension": ".py",
   "mimetype": "text/x-python",
   "name": "python",
   "nbconvert_exporter": "python",
   "pygments_lexer": "ipython3",
   "version": "3.9.18"
  }
 },
 "nbformat": 4,
 "nbformat_minor": 2
}
