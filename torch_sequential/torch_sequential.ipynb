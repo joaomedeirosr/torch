{
 "cells": [
  {
   "cell_type": "markdown",
   "metadata": {},
   "source": [
    "#### A API Sequential do Pytorch\n",
    "\n",
    "Já vimos, até aqui como podemos criar uma Rede neural. Vamos agora aprender um pouco sobre a API Sequential e como criar uma rede neural utilizando ela.\n",
    "\n",
    "Utilizar a API Sequential para criar redes neurais, proporciona uma abordagem mais simples, fácil e compacto, reduzindo a redundância e algumas possíveis complicacoes que possam surgir.\n",
    "\n",
    "##### Mas entao o que é a API Sequential?\n",
    "\n",
    "A API Sequential permite que o usuário no momento da criacao da Rede Neural possa empilhar camadas da Rede neural umas sobre as outras. Essa pilha de camadas é tratada como sendo uma única camada ao criar a arquitetura da Rede Neural. Ou seja, a API entao sequential permite \"encapsularmos\" todas as layers da arquitetura da rede neural tratando elas como uma cápsula só. Um ponto interessante é que a Sequential API também é tratada como uma única camada ao definir o fluxo de dados pelo modelo. O fluxo de dados de uma camada para a outra está na mesma ordem em que sao passadas as camada para nn.Sequential().\n"
   ]
  },
  {
   "cell_type": "markdown",
   "metadata": {},
   "source": [
    "Vamos construir uma rede neural utiliza nn.Sequential() para criar uma pilha de 3 camadas densas e 2 camadas com funcao de ativacao ReLU em uma ordem especificada.\n",
    "\n"
   ]
  },
  {
   "cell_type": "code",
   "execution_count": 8,
   "metadata": {},
   "outputs": [
    {
     "data": {
      "text/plain": [
       "Sequential(\n",
       "  (0): Linear(in_features=784, out_features=300, bias=True)\n",
       "  (1): ReLU()\n",
       "  (2): Linear(in_features=300, out_features=100, bias=True)\n",
       "  (3): ReLU()\n",
       "  (4): Linear(in_features=100, out_features=10, bias=True)\n",
       ")"
      ]
     },
     "execution_count": 8,
     "metadata": {},
     "output_type": "execute_result"
    }
   ],
   "source": [
    "import torch\n",
    "import torch.nn as nn\n",
    "import torch.nn.functional as F\n",
    "\n",
    "densenet = nn.Sequential(\n",
    "    nn.Linear(784,300),\n",
    "    nn.ReLU(),\n",
    "    nn.Linear(300,100),\n",
    "    nn.ReLU(),\n",
    "    nn.Linear(100,10)\n",
    ")\n",
    "\n",
    "densenet\n"
   ]
  },
  {
   "cell_type": "markdown",
   "metadata": {},
   "source": [
    "#### Criando uma rede neural completa com nn.Sequential()\n",
    "\n",
    "Criar uma Rede Neural usando a API Sequencial não é muito diferente de criar uma Rede Neural de outra forma. As etapas para criar uma Rede Neural usando a API Sequencial \n",
    "sao as mesmas que vimos anteriormente:\n",
    "\n",
    "1. Criar uma classe para sua Rede Neural e criando um construtor da classe e herdar a classe pai nn.Module que implementa tudo que precisamos para criar uma Rede Neural.\n",
    "2. Definir as camadas que compoe a arquitetura da Rede Neural após ter herdade o construtor da classe pai nn.Module.\n",
    "3. Por fim, implementar o método forward() que irá definir o fluxo de dados(camadas de ativacao, poolings, etc) através do modelo.\n",
    "\n",
    "Com isso podemos criar uma Rede Neural completa utilizando a API Sequential. Sendo assim, vamos criar uma Rede Neural completa utilizando a API Sequential, utilizando a denselayer que criamos anteriormente.\n",
    "\n"
   ]
  },
  {
   "cell_type": "code",
   "execution_count": 9,
   "metadata": {},
   "outputs": [
    {
     "data": {
      "text/plain": [
       "NeuralNet(\n",
       "  (densenet): Sequential(\n",
       "    (0): Linear(in_features=784, out_features=300, bias=True)\n",
       "    (1): ReLU()\n",
       "    (2): Linear(in_features=300, out_features=100, bias=True)\n",
       "    (3): ReLU()\n",
       "    (4): Linear(in_features=100, out_features=10, bias=True)\n",
       "  )\n",
       ")"
      ]
     },
     "execution_count": 9,
     "metadata": {},
     "output_type": "execute_result"
    }
   ],
   "source": [
    "import torch\n",
    "import torch.nn as nn\n",
    "import torch.nn.functional as F\n",
    "\n",
    "class NeuralNet(nn.Module):\n",
    "    def __init__(self):\n",
    "        super().__init__()\n",
    "        self.densenet = nn.Sequential (\n",
    "            nn.Linear(784,300),\n",
    "            nn.ReLU(),\n",
    "            nn.Linear(300,100),\n",
    "            nn.ReLU(),\n",
    "            nn.Linear(100,10)\n",
    "        )\n",
    "\n",
    "    def forward(self, x):\n",
    "        x = self.densenet(x)\n",
    "\n",
    "        return x\n",
    "    \n",
    "ann_model = NeuralNet()\n",
    "\n",
    "ann_model"
   ]
  },
  {
   "cell_type": "markdown",
   "metadata": {},
   "source": [
    "Veja, que criar redes neurais utilizando o Sequential, torna o código mais compacto e simples de escrever, tornando visualmente um pouco mais agradavél. Entretanto, nao existe uma obrigatoriedade de se utilizar o Sequential(), como vimos ele nao é a única maneira que existe para se criar com redes neurais no Pytorch, existindo outras maneiras a essência é encontrar qual maneira é a mais adequada."
   ]
  }
 ],
 "metadata": {
  "kernelspec": {
   "display_name": "unicamp-ds",
   "language": "python",
   "name": "python3"
  },
  "language_info": {
   "codemirror_mode": {
    "name": "ipython",
    "version": 3
   },
   "file_extension": ".py",
   "mimetype": "text/x-python",
   "name": "python",
   "nbconvert_exporter": "python",
   "pygments_lexer": "ipython3",
   "version": "3.9.18"
  }
 },
 "nbformat": 4,
 "nbformat_minor": 2
}
