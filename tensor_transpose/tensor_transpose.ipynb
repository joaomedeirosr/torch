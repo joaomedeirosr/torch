{
 "cells": [
  {
   "cell_type": "markdown",
   "metadata": {},
   "source": [
    "### 🔄 Transposição\n",
    "\n",
    "A matriz transposta é uma matriz que quando aplicamos o processo de transposicao ela troca a posicao de suas linhas por colunas (ou vice-versa), basicamente girando a matriz ao redor eixo da diagonal principal. \n",
    "\n",
    "Isso significa que o elemento na i-ésima linha e j-ésima coluna da matriz original se torna o elemento na j-ésima linha e i-ésima coluna na matriz transposta. Se tivermos uma matriz A, sua transposta é frequentemente denotada por $(A^T)$.\n",
    "\n",
    "**Por que a transposição é importante?** \n",
    "\n",
    "1. **Cálculo do Produto Escalar**: A ordem dos fatores no cálculo do produto escalar é importante. A transposição permite ajustar as dimensões das matrizes para que elas satisfaçam as regras da multiplicação de matrizes (o número de colunas da primeira matriz deve ser igual ao número de linhas da segunda matriz).\n",
    "\n",
    "2. **Processamento de Dados e Machine Learning**: Na manipulação de dados e no machine learning, a transposição é frequentemente usada para rearranjar dados, especialmente quando se trabalha com matrizes de características, onde cada linha representa uma observação e cada coluna representa uma variável. Transpor essas matrizes pode ser necessário para alinhar os dados de acordo com as exigências de certos algoritmos ou operações.\n",
    "\n",
    "🛠️ **Operacoes de Transposição nativa do PyTorch**:\n",
    "- `tensor.T`\n",
    "- `torch.transpose(x, 0, 1)`\n",
    "- `torch.permute(x, (2, 0, 1))`\n",
    "\n",
    "Estas são algumas das maneiras de realizar a transposição em bibliotecas como PyTorch, oferecendo flexibilidade para manipular as dimensões dos dados conforme necessário.\n",
    "\n",
    "Vamos entao ver na prática, como usamos cada um dos métodos apresentados, e como usar cada caso"
   ]
  },
  {
   "cell_type": "code",
   "execution_count": null,
   "metadata": {},
   "outputs": [
    {
     "data": {
      "text/plain": [
       "tensor([[0.6398, 0.6448, 0.9003],\n",
       "        [0.6457, 0.4787, 0.6847]])"
      ]
     },
     "execution_count": 4,
     "metadata": {},
     "output_type": "execute_result"
    }
   ],
   "source": [
    "import torch\n",
    "\n",
    "t = torch.rand(2,3)\n",
    "\n",
    "t"
   ]
  },
  {
   "cell_type": "markdown",
   "metadata": {},
   "source": [
    "Entao, podemos realizar, a transposicao de um tensor simplesmente, utilizando o método `tensor.T. Utilizamos este método normalmente quando estamos trabalhando com **tensores** de ordem 2. Ou, quando queremos rapidamente realizar a transposta deste tensor de maneira rápida ou quando nao é exigido transpor uma dimensao específica. **Lembrando que a operacao transposta e trocar o que é linha por coluna ou vice-versa de um tensor ou matriz**"
   ]
  },
  {
   "cell_type": "code",
   "execution_count": 5,
   "metadata": {},
   "outputs": [
    {
     "data": {
      "text/plain": [
       "torch.Size([2, 3])"
      ]
     },
     "execution_count": 5,
     "metadata": {},
     "output_type": "execute_result"
    }
   ],
   "source": [
    "t.shape"
   ]
  },
  {
   "cell_type": "code",
   "execution_count": 8,
   "metadata": {},
   "outputs": [
    {
     "name": "stdout",
     "output_type": "stream",
     "text": [
      "tensor([[0.6398, 0.6457],\n",
      "        [0.6448, 0.4787],\n",
      "        [0.9003, 0.6847]])\n"
     ]
    },
    {
     "data": {
      "text/plain": [
       "torch.Size([3, 2])"
      ]
     },
     "execution_count": 8,
     "metadata": {},
     "output_type": "execute_result"
    }
   ],
   "source": [
    "r = t.T\n",
    "print(r)\n",
    "r.shape"
   ]
  },
  {
   "cell_type": "markdown",
   "metadata": {},
   "source": [
    "Agora, pode ser que em algum momento ao se trabalhar com tensores que se queira realizar a transposicao de alguma dimensao em específico, e neste caso o método mais adequado é o `torch.tranpose()` que ser justamente para realizar a operacao de transposicao em uma determinada dimensao informada. Mas como esse cara funciona?\n",
    "\n",
    "Bom o `torch.transpose()` funciona, justamente voce informando 3 parâmetros:\n",
    "\n",
    "- tensor;\n",
    "- dimensao que vai virar linha;\n",
    "- dimensao que vai virar coluna;\n",
    "\n",
    "Vamos observar um exemplo na prática que ficará mais simples de entender:"
   ]
  },
  {
   "cell_type": "code",
   "execution_count": 10,
   "metadata": {},
   "outputs": [
    {
     "data": {
      "text/plain": [
       "tensor([[[0.1792, 0.4405, 0.5630],\n",
       "         [0.4977, 0.3212, 0.1692]],\n",
       "\n",
       "        [[0.5843, 0.0139, 0.7012],\n",
       "         [0.5323, 0.6129, 0.1417]]])"
      ]
     },
     "execution_count": 10,
     "metadata": {},
     "output_type": "execute_result"
    }
   ],
   "source": [
    "tensor2 = torch.rand(2,2,3)\n",
    "\n",
    "tensor2"
   ]
  },
  {
   "cell_type": "code",
   "execution_count": 11,
   "metadata": {},
   "outputs": [
    {
     "data": {
      "text/plain": [
       "torch.Size([2, 2, 3])"
      ]
     },
     "execution_count": 11,
     "metadata": {},
     "output_type": "execute_result"
    }
   ],
   "source": [
    "tensor2.shape"
   ]
  },
  {
   "cell_type": "markdown",
   "metadata": {},
   "source": [
    "Veja enta que eu informei o tensor, a qual iriamos aplicar esta operacao de transposicao e as dimensoes deste tensor, informando a dimensao que vai virar linha e a dimensao que vai virar coluna ou em outras palavras passamos as dimensoes que irao sofrer transposicao."
   ]
  },
  {
   "cell_type": "code",
   "execution_count": 16,
   "metadata": {},
   "outputs": [
    {
     "data": {
      "text/plain": [
       "tensor([[[0.1792, 0.5843],\n",
       "         [0.4977, 0.5323]],\n",
       "\n",
       "        [[0.4405, 0.0139],\n",
       "         [0.3212, 0.6129]],\n",
       "\n",
       "        [[0.5630, 0.7012],\n",
       "         [0.1692, 0.1417]]])"
      ]
     },
     "execution_count": 16,
     "metadata": {},
     "output_type": "execute_result"
    }
   ],
   "source": [
    "r2 = torch.transpose(tensor2, 2, 0)\n",
    "\n",
    "r2"
   ]
  },
  {
   "cell_type": "code",
   "execution_count": 14,
   "metadata": {},
   "outputs": [
    {
     "data": {
      "text/plain": [
       "torch.Size([3, 2, 2])"
      ]
     },
     "execution_count": 14,
     "metadata": {},
     "output_type": "execute_result"
    }
   ],
   "source": [
    "r2.shape"
   ]
  },
  {
   "cell_type": "markdown",
   "metadata": {},
   "source": [
    "Uma outra maneira que podemos realizar a transposicao de tensores utilizando o `PyTorch` é usar o método `torch.permute`. O `torch.permute` tem um príncipio de funcionamento e aplicacao muito parecido com o `torch.transpose()`. Entretano, o `torch.permute` é utilizado quando quero realizar a transposicao informando mais de uma dimensao por vez ou seja, além disso ele é muito idicado para quando estamos trabalhando com tensores de ordem superior a ordem3, entretanto cada profissional usa estes 3 métodos da maneira como acha melhor e isso é pessoal, pois ambos realizam a operacao de transposicao dos tensores perfeitamente.\n",
    "\n",
    "Logo, vamos ver na prática e entender melhor como funciona o método `torch.permute()`"
   ]
  },
  {
   "cell_type": "code",
   "execution_count": 19,
   "metadata": {},
   "outputs": [
    {
     "data": {
      "text/plain": [
       "tensor([[[0.4772, 0.9213, 0.7913, 0.7180],\n",
       "         [0.2099, 0.9476, 0.9990, 0.6070],\n",
       "         [0.0100, 0.6326, 0.4509, 0.1024]],\n",
       "\n",
       "        [[0.3299, 0.7543, 0.4103, 0.2181],\n",
       "         [0.6550, 0.4508, 0.4600, 0.5979],\n",
       "         [0.9470, 0.8033, 0.7679, 0.0559]]])"
      ]
     },
     "execution_count": 19,
     "metadata": {},
     "output_type": "execute_result"
    }
   ],
   "source": [
    "tensor3 = torch.rand(2,3,4)\n",
    "\n",
    "tensor3"
   ]
  }
 ],
 "metadata": {
  "kernelspec": {
   "display_name": "unicamp-ds",
   "language": "python",
   "name": "python3"
  },
  "language_info": {
   "codemirror_mode": {
    "name": "ipython",
    "version": 3
   },
   "file_extension": ".py",
   "mimetype": "text/x-python",
   "name": "python",
   "nbconvert_exporter": "python",
   "pygments_lexer": "ipython3",
   "version": "3.9.18"
  }
 },
 "nbformat": 4,
 "nbformat_minor": 2
}
