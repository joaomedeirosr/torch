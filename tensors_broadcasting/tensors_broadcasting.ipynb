{
 "cells": [
  {
   "cell_type": "markdown",
   "metadata": {},
   "source": [
    "### 📡 Broadcasting\n",
    "\n",
    "Broadcasting é um mecanismo que permite realizar operações aritméticas entre tensores de diferentes formas (ou tamanhos):\n",
    "\n",
    "1. **Como foi possível observar até agora, cada tensor possui pelo menos uma dimensão.**\n",
    "- Isso significa que os tensores envolvidos na operação devem ter pelo menos uma dimensão. Um tensor não pode ser um escalar (um único número sem dimensões) se quisermos aplicar as regras de broadcasting.\n",
    "\n",
    "2. **O Broadcasting** é algo que acontece tanto no **Pytorch** quanto no **Numpy** porém é algo ocorrendo debaixo dos panos nao é nenhum método que será aplicado ao tensor por exemplo. Entretanto, o broadcasting possui alguns príncipios de funcionamento, e compreender isto, auxília ao desenvolvedor ter um maior domínio do que está acontecendo com seus tensores.\n",
    "\n",
    " Para que o broadcasting entao aconteca esta operacao irá sempre comecar verificando se a dimensão final possui os tamanhos das compativéis que permitem o broadcasting sendo rem resumo:\n",
    " \n",
    "   - As dimensoes mais a direita devem ser iguais;\n",
    "   - Algum dos valores ou dimensao é 1, ou um deles não existe;\n",
    "  \n",
    "  Como mencionado, o brodcasting inicia:\n",
    "   - Comparando as dimensões dos dois tensores, começando pela última dimensão (a mais à direita) e movendo-se para a primeira dimensão (a mais à esquerda).\n",
    "   \n",
    "  Agora de maneira detalhada como já foi citado anteriormente para cada par de dimensões comparadas, três cenários permitem o broadcasting:\n",
    "     1. **Os tamanhos das dimensões são iguais:** Se as dimensões correspondentes nos dois tensores têm o mesmo tamanho, então elas são compatíveis. (ocorre broadcasting)\n",
    "     2. **Uma das dimensões é 1:** Se um tensor tem uma dimensão de tamanho 1 na posição que está sendo comparada, ele pode ser \"esticado\" ou \"expandido\" para corresponder ao tamanho da outra dimensão. Isso é feito sem realmente copiar dados em memória, mas sim apenas adaptando a operação aritmética para se comportar como se o tensor menor tivesse sido expandido.\n",
    "     3. **Uma das dimensões não existe:** Se um dos tensores tem menos dimensões que o outro, podemos considerar que ele tem dimensões extras de tamanho 1 na frente (mais à esquerda). Essas dimensões \"faltantes\" são implicitamente consideradas como 1, permitindo o broadcasting.\n",
    "\n",
    "![](https://deeplearninguniversity.com/wp-content/uploads/2020/11/Screenshot-2020-11-20-at-1.02.50-PM.png)\n",
    "\n",
    "(Fonte: https://deeplearninguniversity.com/pytorch/pytorch-broadcasting/)\n",
    "\n",
    "O broadcasting permite que você realize operações aritméticas entre tensores de formas diferentes de uma maneira eficiente e intuitiva. Por exemplo, você pode adicionar um vetor a cada linha de uma matriz ou multiplicar uma matriz 3D por um vetor, aplicando a operação em cada \"fatia\" da matriz 3D, sem a necessidade de loops explícitos ou duplicação de dados.\n",
    "\n",
    "Vamos, observar alguns exemplos para que fique ainda mais claro, e também para podermos entender como o broadcasting ocorre na prática"
   ]
  },
  {
   "cell_type": "code",
   "execution_count": 1,
   "metadata": {},
   "outputs": [
    {
     "data": {
      "text/plain": [
       "tensor([[0.8484, 0.3655],\n",
       "        [0.6376, 0.4929]])"
      ]
     },
     "execution_count": 1,
     "metadata": {},
     "output_type": "execute_result"
    }
   ],
   "source": [
    "import torch\n",
    "\n",
    "n = torch.rand(2,2)\n",
    "\n",
    "n"
   ]
  },
  {
   "cell_type": "code",
   "execution_count": 2,
   "metadata": {},
   "outputs": [
    {
     "data": {
      "text/plain": [
       "tensor([0.6048, 0.5671])"
      ]
     },
     "execution_count": 2,
     "metadata": {},
     "output_type": "execute_result"
    }
   ],
   "source": [
    "j = torch.rand(2)\n",
    "\n",
    "j"
   ]
  },
  {
   "cell_type": "markdown",
   "metadata": {},
   "source": [
    "Perceba que aqui as regras, para a existencia do **Broadcasting** estao sendo satisfeitas, pois, temos que a dimensao mais a direita é `1` ou uma dimensao maior, e neste caso se percebermos ambos os tensores possuem o mesmo número de colunas (dimensao mais a direita) ambos possuem 2 colunas (dimensoes iguais), portanto o **Tensor j** sofrerá **Broadcasting** e terá seus valores duplicados de tal forma que tenhamos uma matriz (2 x 2)"
   ]
  },
  {
   "cell_type": "code",
   "execution_count": 3,
   "metadata": {},
   "outputs": [
    {
     "data": {
      "text/plain": [
       "tensor([[1.4532, 0.9326],\n",
       "        [1.2424, 1.0600]])"
      ]
     },
     "execution_count": 3,
     "metadata": {},
     "output_type": "execute_result"
    }
   ],
   "source": [
    "broad = n + j\n",
    "\n",
    "broad"
   ]
  },
  {
   "cell_type": "markdown",
   "metadata": {},
   "source": [
    "Um outro comentario interessante a se fazer em relacao ao Broadcasting é que ele é aplicado a todas as operacoes aritiméticas que vimos até aqui, incluindo por exemplo produtos escalares entre Tensores, sem nos esquecermos das operacoes aritémticas entre **Tensores** fundamentais como por exemplo (+, - , * , /) e etc.\n",
    "\n",
    "O que devemos salientar é para os produtos escalares que no final das contas, a grosso modo sao modelos simplificados de um neuronio artificial e portanto, ao lidar com Redes MLP, ou Redes Convolucionais, estamos a todo momento trabalhando com o Broadcasting. Vamos ver um exemplo para consildar este conhecimento tao importante:"
   ]
  },
  {
   "cell_type": "code",
   "execution_count": 13,
   "metadata": {},
   "outputs": [],
   "source": [
    "x = torch.rand(2,2,3)\n",
    "w = torch.rand(3,2)\n",
    "b = torch.rand(2)"
   ]
  },
  {
   "cell_type": "code",
   "execution_count": 15,
   "metadata": {},
   "outputs": [
    {
     "data": {
      "text/plain": [
       "tensor([[[1.6143, 1.1010],\n",
       "         [1.2022, 1.0477]],\n",
       "\n",
       "        [[1.0583, 1.0030],\n",
       "         [2.0519, 1.3876]]])"
      ]
     },
     "execution_count": 15,
     "metadata": {},
     "output_type": "execute_result"
    }
   ],
   "source": [
    "neuron = torch.matmul(x, w) + b\n",
    "\n",
    "neuron"
   ]
  },
  {
   "cell_type": "code",
   "execution_count": 16,
   "metadata": {},
   "outputs": [
    {
     "data": {
      "text/plain": [
       "torch.Size([2, 2, 2])"
      ]
     },
     "execution_count": 16,
     "metadata": {},
     "output_type": "execute_result"
    }
   ],
   "source": [
    "neuron.shape"
   ]
  }
 ],
 "metadata": {
  "kernelspec": {
   "display_name": "unicamp-ds",
   "language": "python",
   "name": "python3"
  },
  "language_info": {
   "codemirror_mode": {
    "name": "ipython",
    "version": 3
   },
   "file_extension": ".py",
   "mimetype": "text/x-python",
   "name": "python",
   "nbconvert_exporter": "python",
   "pygments_lexer": "ipython3",
   "version": "undefined.undefined.undefined"
  }
 },
 "nbformat": 4,
 "nbformat_minor": 2
}
