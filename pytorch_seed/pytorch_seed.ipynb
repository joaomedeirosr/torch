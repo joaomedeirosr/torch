{
 "cells": [
  {
   "cell_type": "markdown",
   "metadata": {},
   "source": [
    "### Seed, ou Sementes aleatórias\n",
    "\n",
    "Ao, se trabalhar com inteligência artificial, Deep Learning e etc, frequentemente, é utilizado o seed. Isto se deve pelo importante papel que o Seed, possui. O Pytorch, e outras bibliotecas como Numpy por exemplo, tem seus geradores de números, o Pytorch, gera números pseudoaleatórios, isto significa que os números produzidos pelo Pytorch, podem ser previstos ou melhor re-gerados se soubermos, qual foi o `seed` que foi usado para gerar aquela sequencia de números pseudoaleatórios, ou seja é como se disermos o seguinte se soubermos como \"semear estes números podemos descobrir como obter os mesmos números\" no gerador aleatório. E isso é de muita utilidade pois pode ser que queremos reproduzir, os mesmos resultados gerados anteriormente em um problema de aprendizado por reforco por exemplo, fazendo isso conseguimos remover a incerteza causada pela geracao dos números que seriam completamente aleatórios a cada vez que que esse conjunto de números fosse gerado.\n",
    "\n",
    "Na prática, o gerador é \"semeado\" com um número aleatório no inicio da geracao dos números e isso pode ser acessado, utilizando o método `initial_seed()` veja:"
   ]
  },
  {
   "cell_type": "code",
   "execution_count": 6,
   "metadata": {},
   "outputs": [
    {
     "data": {
      "text/plain": [
       "tensor([[0.6555, 0.8742, 0.7837],\n",
       "        [0.2743, 0.0487, 0.1041]])"
      ]
     },
     "execution_count": 6,
     "metadata": {},
     "output_type": "execute_result"
    }
   ],
   "source": [
    "import torch\n",
    "\n",
    "torch.initial_seed()\n",
    "\n",
    "x = torch.rand(2,3)\n",
    "\n",
    "x"
   ]
  },
  {
   "cell_type": "markdown",
   "metadata": {},
   "source": [
    "Veja que agora, ao utilizar o `torch.manual_seed()` e informar uma seed como por exemplo 42, que foi o valor usado, veremos que o Pytorch irá retornar um objeto, contendo o \"semeador\" da seed que é justamente quem vai me permitir chegar sempre no mesmo tensor. Logo, veja que independente de quantas vezes eu tentar criar um tensor com o método `torch.rand()`, ele sempre irá criar o mesmo tensor, isto ocorre justamente pelo simples fato de estarmos, \"conjelando\" ou utilizando um semeador, específico que nos faz saber qual é esta pseudo-aleatoriedade.\n"
   ]
  },
  {
   "cell_type": "code",
   "execution_count": 11,
   "metadata": {},
   "outputs": [
    {
     "data": {
      "text/plain": [
       "tensor([[0.8823, 0.9150, 0.3829],\n",
       "        [0.9593, 0.3904, 0.6009]])"
      ]
     },
     "execution_count": 11,
     "metadata": {},
     "output_type": "execute_result"
    }
   ],
   "source": [
    "torch.manual_seed(42)\n",
    "\n",
    "x = torch.rand(2,3)\n",
    "x"
   ]
  }
 ],
 "metadata": {
  "kernelspec": {
   "display_name": "unicamp-ds",
   "language": "python",
   "name": "python3"
  },
  "language_info": {
   "codemirror_mode": {
    "name": "ipython",
    "version": 3
   },
   "file_extension": ".py",
   "mimetype": "text/x-python",
   "name": "python",
   "nbconvert_exporter": "python",
   "pygments_lexer": "ipython3",
   "version": "3.9.18"
  }
 },
 "nbformat": 4,
 "nbformat_minor": 2
}
