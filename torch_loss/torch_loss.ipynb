{
 "cells": [
  {
   "cell_type": "markdown",
   "metadata": {},
   "source": [
    "#### Funcoes de perda (Loss function) no Pytorch\n",
    "\n",
    "Em sua essencia uma funcao de perda tem como objetivo ser intuitiva como o próprio nome já induz. Ou seja, ela é utilizada para calcular a perda, que no contexto de redes neurais ela é uma medida de quao bom o meu modelo está performando, ou a grosso modo posso dizer que é uma medida que expressa quao distante ou quanto perto meu modelo está de aprender ou cumprir seu objetivo.\n",
    "\n",
    "As funcoes de perda em conjunto com otimizadores sao utilizadas para ajustar os parâmetros de uma Rede Neural. Feita esta breve introducao, vamos ver quais sao as funcoes de perda disponíveis no Pytorch e como podemo utilizá-las.\n",
    "\n",
    "#### Importanto as Loss functions\n",
    "As funcoes de perda assim como as camadas funcoes de ativacao e etc, também estao implementadas ou incorporadas pelo módulo `torch.nn`, portanto se importamos o `torch.nn` para outro próposito como por exemplo construir as camadas da rede neural, ja estamos importando também as funcoes de perda.\n",
    "\n",
    "```python\n",
    "    import torch.nn as nn\n",
    "```\n",
    "#### Utilizando as Loss functions\n",
    "Assim como muitas coisas no Pytorch, para utilizarmos as funcoes de perda isso nao é muito diferente, pois para utilizá-las precisamos criar um objeto ou uma instancia da funcao de perda. Veja na prática como isso é simples."
   ]
  },
  {
   "cell_type": "code",
   "execution_count": 3,
   "metadata": {},
   "outputs": [
    {
     "data": {
      "text/plain": [
       "MSELoss()"
      ]
     },
     "execution_count": 3,
     "metadata": {},
     "output_type": "execute_result"
    }
   ],
   "source": [
    "import torch\n",
    "import torch.nn as nn\n",
    "\n",
    "loss_fn = nn.MSELoss()\n",
    "\n",
    "loss_fn"
   ]
  },
  {
   "cell_type": "markdown",
   "metadata": {},
   "source": [
    "No exemplo acima podemos ver que a utilizacao da funcao de perda MSE funcao de perda extremamente conhecida na teoria de aprendizado de máquina e estatistica chamada de erro quadratico medio ou também conhecida como norma L2.\n",
    "\n",
    "Entretanto, além da loss function MSE, o Pytorch possui uma variedade de funcoes de perda, veja a seguir a uma simples tabela que mostra algumas funcoes de perda disponíveis no Pytorch. \n",
    "\n",
    "| Classe de Perda            | Breve Descrição                                                                                     |\n",
    "|----------------------------|-----------------------------------------------------------------------------------------------------|\n",
    "| Perda de Entropia Cruzada  | É usada para calcular a perda em problemas de classificação. Também é conhecida como perda de log. |\n",
    "| Perda MSE (L2)             | É usada para calcular a perda em problemas de regressão com poucos outliers. Corresponde ao Erro Quadrático Médio (norma L2 quadrada). |\n",
    "| Perda L1                   | É usada para calcular a perda em problemas de regressão com muitos outliers. Corresponde ao Erro Absoluto Médio (norma L1). |\n"
   ]
  },
  {
   "cell_type": "markdown",
   "metadata": {},
   "source": [
    "#### Funcao de perda no método forward (feedforward)\n",
    "\n",
    "Nas redes neurais feedforward, a funcao de perda é aplicada no método forward() da classe que representa a Rede Neural e ela é utilizada neste método para calcular a perda. E podemos fazer isso chamando o objeto `loss_fn` que criamos anteriormente, e aplicando a ele a saída da rede neural e os rótulos (labels) reais dos dados de treinamento, tudo isso dentro de um loop for, pois com isso conseguiremos observar como o modelo esta aprendendo. Entao, basicamente na prática temos:\n",
    "\n",
    "```python\n",
    "    loss = loss_fn(output, label)\n",
    "```\n"
   ]
  },
  {
   "cell_type": "markdown",
   "metadata": {},
   "source": [
    "#### Funcao de perda no método backward (backpropagation)\n",
    "\n",
    "Já quando nao estamos utilizando redes feedforward, ou seja, quando estamos trabalhando com redes neurais recorrentes ou redes neurais convolucionais, a funcao de perda é aplicada no método backward() da classe que representa a Rede Neural. No backward pass, calculamos os gradientes para cada parâmetro do modelo. Logo, podemos calcular os gradientes do backpropagation chamando o método `backward()` na perda funcao de perda `loss`.\n",
    "\n",
    "```python\n",
    "    loss.backward()\n",
    "```\n",
    "\n",
    "\n"
   ]
  },
  {
   "cell_type": "markdown",
   "metadata": {},
   "source": [
    "#### Conclusoes sobre as Loss functions\n",
    "\n",
    "A Perda ou loss é basicamente um valor numérico. Este valor é o resultado que é uma função da saída prevista do modelo e da verdade fundamental para um conjunto particular de parâmetros do modelo. \n",
    "\n",
    "Para simplificar, é uma maneira de medir o quanto a saída real é diferente da saída alvo. Portanto, uma função de perda pode ser matematicamente definida como:\n",
    "\n",
    "$$ loss = f(y, \\hat{y}) $$\n",
    "\n",
    "Onde:\n",
    "\n",
    "- $y$ é a saída real (label)\n",
    "- $\\hat{y}$ é a saída prevista (output)\n",
    "- $f$ é a função de perda\n",
    "\n",
    "Sendo tudo isso utilizado com o objetivo de treinar o modelo que é a grosso modoatualizar iterativamente os parâmetros do modelo de modo que esta **\"loss\"** seja minimizada ou o mais próxima de zero. \n",
    "\n",
    "E isso é obtido por meio do algoritmo de retropropagação(backpropagation). A perda é retropropagada da camada de saída para a camada de entrada e os gradientes são calculados para cada um desses parâmetros. Esses gradientes são então utilizados ​​para atualizar os parâmetros do modelo."
   ]
  }
 ],
 "metadata": {
  "kernelspec": {
   "display_name": "unicamp-ds",
   "language": "python",
   "name": "python3"
  },
  "language_info": {
   "codemirror_mode": {
    "name": "ipython",
    "version": 3
   },
   "file_extension": ".py",
   "mimetype": "text/x-python",
   "name": "python",
   "nbconvert_exporter": "python",
   "pygments_lexer": "ipython3",
   "version": "3.9.18"
  }
 },
 "nbformat": 4,
 "nbformat_minor": 2
}
